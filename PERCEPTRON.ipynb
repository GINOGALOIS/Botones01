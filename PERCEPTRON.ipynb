{
  "nbformat": 4,
  "nbformat_minor": 0,
  "metadata": {
    "colab": {
      "provenance": [],
      "authorship_tag": "ABX9TyPyvj3EHvkLZLHm47AcCaCc",
      "include_colab_link": true
    },
    "kernelspec": {
      "name": "python3",
      "display_name": "Python 3"
    },
    "language_info": {
      "name": "python"
    }
  },
  "cells": [
    {
      "cell_type": "markdown",
      "metadata": {
        "id": "view-in-github",
        "colab_type": "text"
      },
      "source": [
        "<a href=\"https://colab.research.google.com/github/GINOGALOIS/Botones01/blob/master/PERCEPTRON.ipynb\" target=\"_parent\"><img src=\"https://colab.research.google.com/assets/colab-badge.svg\" alt=\"Open In Colab\"/></a>"
      ]
    },
    {
      "cell_type": "code",
      "source": [
        "import numpy as np\n",
        "\n",
        "class Perceptron:\n",
        "    def __init__(self, input_size, learning_rate=0.1):\n",
        "        # Paso 1: Inicializar los pesos W y el umbral θ en valores pequeños aleatorios [-1, 1]\n",
        "        self.weights = np.random.uniform(-1, 1, input_size)\n",
        "        self.bias = np.random.uniform(-1, 1)\n",
        "        self.learning_rate = learning_rate\n",
        "\n",
        "    def activation_function(self, x):\n",
        "        # f: función de activación - aquí usamos la función escalón (1 si x >= 0, 0 si x < 0)\n",
        "        return 1 if x >= 0 else 0\n",
        "\n",
        "    def weighted_sum(self, X):\n",
        "        # Cálculo de la suma ponderada: XW - θ\n",
        "        return np.dot(X, self.weights) - self.bias\n",
        "\n",
        "    def predict(self, X):\n",
        "        # Paso 3: Propagar, calcular Y en función de X\n",
        "        return self.activation_function(self.weighted_sum(X))\n",
        "\n",
        "    def train(self, X, D, epochs=100):\n",
        "        for epoch in range(epochs):\n",
        "            total_error = 0\n",
        "            for x, desired_output in zip(X, D):\n",
        "                # Propagar\n",
        "                y = self.predict(x)  # Salida calculada\n",
        "\n",
        "                # Paso 4: Calcular el error (Error = D - y)\n",
        "                error = desired_output - y\n",
        "                total_error += abs(error)\n",
        "\n",
        "                # Paso 5: Retropropagación, ajustar W y θ\n",
        "                # W_t = W_t-1 + α * Error * x_i\n",
        "                self.weights += self.learning_rate * error * x\n",
        "                # Actualización del umbral (θ = θ - α * Error)\n",
        "                self.bias -= self.learning_rate * error\n",
        "\n",
        "            # Imprimir el error total cada época\n",
        "            print(f\"Época {epoch+1}, Error total: {total_error}\")\n",
        "\n",
        "            # Condición de parada si el error es suficientemente bajo\n",
        "            if total_error == 0:\n",
        "                print(\"Entrenamiento completo con error total igual a cero.\")\n",
        "                break\n",
        "\n",
        "# Datos de ejemplo para entrenamiento (ejemplo simple de compuerta lógica AND)\n",
        "X = np.array([[0, 0], [0, 1], [1, 0], [1, 1]])\n",
        "D = np.array([0, 0, 0, 1])  # Salidas deseadas para compuerta AND\n",
        "\n",
        "# Crear el perceptrón\n",
        "perceptron = Perceptron(input_size=2, learning_rate=0.1)\n",
        "\n",
        "# Entrenar el perceptrón\n",
        "perceptron.train(X, D, epochs=10)\n",
        "\n",
        "# Probar el perceptrón con las mismas entradas de entrenamiento\n",
        "print(\"\\nPruebas del perceptrón después del entrenamiento:\")\n",
        "for x in X:\n",
        "    print(f\"Entrada: {x}, Salida: {perceptron.predict(x)}\")\n"
      ],
      "metadata": {
        "colab": {
          "base_uri": "https://localhost:8080/"
        },
        "id": "f0UyfZ1XKd84",
        "outputId": "f1eaf4bb-92f8-4f9f-e7c7-5027eac8678c"
      },
      "execution_count": 4,
      "outputs": [
        {
          "output_type": "stream",
          "name": "stdout",
          "text": [
            "Época 1, Error total: 3\n",
            "Época 2, Error total: 3\n",
            "Época 3, Error total: 3\n",
            "Época 4, Error total: 3\n",
            "Época 5, Error total: 1\n",
            "Época 6, Error total: 2\n",
            "Época 7, Error total: 2\n",
            "Época 8, Error total: 3\n",
            "Época 9, Error total: 2\n",
            "Época 10, Error total: 1\n",
            "\n",
            "Pruebas del perceptrón después del entrenamiento:\n",
            "Entrada: [0 0], Salida: 0\n",
            "Entrada: [0 1], Salida: 0\n",
            "Entrada: [1 0], Salida: 0\n",
            "Entrada: [1 1], Salida: 1\n"
          ]
        }
      ]
    }
  ]
}